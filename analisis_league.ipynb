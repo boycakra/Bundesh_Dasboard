{
 "cells": [
  {
   "cell_type": "code",
   "execution_count": null,
   "metadata": {},
   "outputs": [],
   "source": [
    "import pandas as pd\n",
    "\n",
    "\n",
    "file_path = '/content/competitors_data.csv'\n",
    "final_competitors_df = pd.read_csv(file_path)\n",
    "\n",
    "\n",
    "\n",
    "\n",
    "file_path = '/content/events_data.csv'\n",
    "final_events_df = pd.read_csv(file_path)\n",
    "\n",
    "\n",
    "\n",
    "file_path = '/content/players_data.csv'\n",
    "final_players_df = pd.read_csv(file_path)\n",
    "\n",
    "\n",
    "\n",
    "file_path = '/content/shots_data.csv'\n",
    "final_shots_df = pd.read_csv(file_path)\n",
    "\n",
    "\n",
    "\n",
    "\n"
   ]
  }
 ],
 "metadata": {
  "language_info": {
   "name": "python"
  }
 },
 "nbformat": 4,
 "nbformat_minor": 2
}
